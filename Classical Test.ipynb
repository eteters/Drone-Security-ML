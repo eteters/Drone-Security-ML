{
 "cells": [
  {
   "cell_type": "code",
   "execution_count": 84,
   "metadata": {},
   "outputs": [],
   "source": [
    "import csv\n",
    "import numpy as np\n",
    "import pandas as pd\n",
    "from sklearn.kernel_approximation import RBFSampler\n",
    "from sklearn.linear_model import SGDClassifier\n",
    "# from sklearn.cross_validation import train_test_split\n",
    "from sklearn import svm\n",
    "from sklearn.metrics import classification_report\n",
    "from sklearn import metrics\n",
    "from sklearn.linear_model import LogisticRegression\n",
    "from sklearn.naive_bayes import GaussianNB\n",
    "from sklearn.neighbors import KNeighborsClassifier\n",
    "from sklearn.tree import DecisionTreeClassifier\n",
    "from sklearn.metrics import (precision_score, recall_score,f1_score, accuracy_score,mean_squared_error,mean_absolute_error)\n",
    "from sklearn.ensemble import AdaBoostClassifier\n",
    "from sklearn.ensemble import RandomForestClassifier\n",
    "from sklearn.preprocessing import Normalizer\n",
    "# from pandas_ml import ConfusionMatrix\n",
    "from sklearn.metrics import confusion_matrix\n",
    "from sklearn.metrics import plot_confusion_matrix\n",
    "\n",
    "import matplotlib.pyplot as plt\n"
   ]
  },
  {
   "cell_type": "code",
   "execution_count": 92,
   "metadata": {},
   "outputs": [],
   "source": [
    "def fixDataset(csvName, params, title):\n",
    "\n",
    "    ids_1, ids_2, ids_3, labels = params\n",
    "    print(labels)\n",
    "    with open(csvName, 'r') as f:\n",
    "        reader = csv.reader(f)\n",
    "        text_file = open(title, \"w\")\n",
    "        for row in reader:\n",
    "            for row_i in range(len(row)):\n",
    "                text = \"\"\n",
    "                if row_i == 1:\n",
    "                    if row[row_i] in ids_1:\n",
    "                        text = str(ids_1[row[row_i]])\n",
    "                    else:\n",
    "                        ids_1[row[row_i]] = ids_1[\"count\"] \n",
    "                        ids_1[\"count\"] += 1\n",
    "                        text = str(ids_1[row[row_i]])\n",
    "\n",
    "                elif row_i == 2:\n",
    "                    if row[row_i] in ids_2:\n",
    "                        text = str(ids_2[row[row_i]])\n",
    "                    else:\n",
    "                        ids_2[row[row_i]] = ids_2[\"count\"] \n",
    "                        ids_2[\"count\"] += 1\n",
    "                        text = str(ids_2[row[row_i]])\n",
    "                elif row_i == 3:\n",
    "                    if row[row_i] in ids_3:\n",
    "                        text = str(ids_3[row[row_i]])\n",
    "                    else:\n",
    "                        ids_3[row[row_i]] = ids_3[\"count\"] \n",
    "                        ids_3[\"count\"] += 1\n",
    "                        text = str(ids_3[row[row_i]])\n",
    "                elif row_i == 41:\n",
    "                    if row[row_i] in labels:\n",
    "                        text = str(labels[row[row_i]])\n",
    "                    else:\n",
    "                        labels[row[row_i]] = labels[\"count\"] \n",
    "                        labels[\"count\"] += 1\n",
    "                        text = str(labels[row[row_i]])\n",
    "                else:\n",
    "                    text = row[row_i]\n",
    "\n",
    "                text_file.write(\"{},\".format(text))\n",
    "            text_file.write('\\n')\n",
    "\n",
    "    return [ids_1,ids_2,ids_3,labels]"
   ]
  },
  {
   "cell_type": "code",
   "execution_count": 93,
   "metadata": {},
   "outputs": [
    {
     "name": "stdout",
     "output_type": "stream",
     "text": [
      "{'count': 0}\n",
      "{'count': 23, 'normal': 0, 'neptune': 1, 'warezclient': 2, 'ipsweep': 3, 'portsweep': 4, 'teardrop': 5, 'nmap': 6, 'satan': 7, 'smurf': 8, 'pod': 9, 'back': 10, 'guess_passwd': 11, 'ftp_write': 12, 'multihop': 13, 'rootkit': 14, 'buffer_overflow': 15, 'imap': 16, 'warezmaster': 17, 'phf': 18, 'land': 19, 'loadmodule': 20, 'spy': 21, 'perl': 22}\n",
      "{'count': 23, 'normal': 0, 'neptune': 1, 'warezclient': 2, 'ipsweep': 3, 'portsweep': 4, 'teardrop': 5, 'nmap': 6, 'satan': 7, 'smurf': 8, 'pod': 9, 'back': 10, 'guess_passwd': 11, 'ftp_write': 12, 'multihop': 13, 'rootkit': 14, 'buffer_overflow': 15, 'imap': 16, 'warezmaster': 17, 'phf': 18, 'land': 19, 'loadmodule': 20, 'spy': 21, 'perl': 22}\n"
     ]
    }
   ],
   "source": [
    "labels = {\"count\":0}\n",
    "ids_1 = {\"count\":0}\n",
    "ids_2 = {\"count\":0}\n",
    "ids_3 = {\"count\":0}\n",
    "ids_1, ids_2, ids_3, labels = fixDataset(\"kddtrain.csv\", [ids_1, ids_2, ids_3, labels], \"kddtrain-mod2.csv\")\n",
    "ids_1, ids_2, ids_3, labels = fixDataset(\"kddtrain-20.csv\", [ids_1, ids_2, ids_3, labels], \"kddtrain-20-mod2.csv\" )\n",
    "ids_1, ids_2, ids_3, labels = fixDataset(\"kddtest.csv\", [ids_1, ids_2, ids_3, labels], \"kddtest-mod2.csv\" )"
   ]
  },
  {
   "cell_type": "code",
   "execution_count": 118,
   "metadata": {},
   "outputs": [
    {
     "name": "stdout",
     "output_type": "stream",
     "text": [
      "***************************************************************\n",
      "22\n"
     ]
    }
   ],
   "source": [
    "\n",
    "print(\"***************************************************************\")\n",
    "\n",
    "traindata = pd.read_csv('kddtrain-mod2.csv', header=None)\n",
    "testdata = pd.read_csv('kddtest-mod2.csv', header=None)\n",
    "\n",
    "X = traindata.iloc[:,1:42]\n",
    "Y = traindata.iloc[:,0]\n",
    "C = testdata.iloc[:,0]\n",
    "T = testdata.iloc[:,1:42]\n",
    "\n",
    "scaler = Normalizer().fit(X)\n",
    "trainX = scaler.transform(X)\n",
    "\n",
    "scaler = Normalizer().fit(T)\n",
    "testT = scaler.transform(T)\n",
    "\n",
    "\n",
    "traindata = np.array(trainX)\n",
    "trainlabel = np.array(Y)\n",
    "\n",
    "testdata = np.array(testT)\n",
    "testlabel = np.array(C)\n"
   ]
  },
  {
   "cell_type": "code",
   "execution_count": 106,
   "metadata": {},
   "outputs": [
    {
     "name": "stdout",
     "output_type": "stream",
     "text": [
      "***************************************************************\n",
      "***************************************************************\n"
     ]
    },
    {
     "name": "stderr",
     "output_type": "stream",
     "text": [
      "/Users/evanteters/anaconda3/lib/python3.6/site-packages/sklearn/linear_model/_logistic.py:940: ConvergenceWarning: lbfgs failed to converge (status=1):\n",
      "STOP: TOTAL NO. of ITERATIONS REACHED LIMIT.\n",
      "\n",
      "Increase the number of iterations (max_iter) or scale the data as shown in:\n",
      "    https://scikit-learn.org/stable/modules/preprocessing.html\n",
      "Please also refer to the documentation for alternative solver options:\n",
      "    https://scikit-learn.org/stable/modules/linear_model.html#logistic-regression\n",
      "  extra_warning_msg=_LOGISTIC_SOLVER_CONVERGENCE_MSG)\n"
     ]
    }
   ],
   "source": [
    "print(\"***************************************************************\")\n",
    "\n",
    "model = LogisticRegression()\n",
    "model.fit(traindata, trainlabel)\n",
    "\n",
    "\n",
    "# make predictions\n",
    "expected = testlabel\n",
    "predicted = model.predict(testdata)\n",
    "\n",
    "\n",
    "print(\"***************************************************************\")"
   ]
  },
  {
   "cell_type": "code",
   "execution_count": 107,
   "metadata": {},
   "outputs": [
    {
     "name": "stdout",
     "output_type": "stream",
     "text": [
      "***************************************************************\n",
      "GaussianNB(priors=None, var_smoothing=1e-09)\n",
      "(22544,)\n",
      "(22544,)\n",
      "[[ 104   20 4712 ...    0    0    0]\n",
      " [   8 4601    0 ...    0    0    0]\n",
      " [   0    0    0 ...    0    0    0]\n",
      " ...\n",
      " [   0    0    1 ...    0    0    0]\n",
      " [   0    0    0 ...    0    0    0]\n",
      " [   0    0    0 ...    0    0    0]]\n",
      "(22544,)\n",
      "(22544,)\n",
      "Acc: 0.26809794180097163 prec: 0.20512180332487384 recall: 0.13272507849468793 F1: 0.1611665456294258\n",
      "***************************************************************\n"
     ]
    }
   ],
   "source": [
    "print(\"***************************************************************\")\n",
    "\n",
    "# fit a Naive Bayes model to the data\n",
    "model = GaussianNB()\n",
    "model.fit(traindata, trainlabel)\n",
    "print(model)\n",
    "# make predictions\n",
    "expected = testlabel\n",
    "predicted = model.predict(testdata)\n",
    "\n",
    "cm = confusion_matrix(expected, predicted)\n",
    "print(expected.shape)\n",
    "print(predicted.shape)\n",
    "expected = np.array(expected)\n",
    "predicted = np.array(predicted)\n",
    "# cm.print_stats()\n",
    "\n",
    "np.savetxt('expected.txt', expected, fmt='%01d')\n",
    "np.savetxt('predicted.txt',predicted , fmt='%01d')\n",
    "\n",
    "print(cm)\n",
    "print(expected.shape)\n",
    "print(predicted.shape)\n",
    "evaluateCM(cm)\n",
    "\n",
    "# cm.stats()\n",
    "print(\"***************************************************************\")"
   ]
  },
  {
   "cell_type": "code",
   "execution_count": 119,
   "metadata": {},
   "outputs": [
    {
     "name": "stdout",
     "output_type": "stream",
     "text": [
      "***************************************************************\n",
      "KNeighborsClassifier(algorithm='auto', leaf_size=30, metric='minkowski',\n",
      "                     metric_params=None, n_jobs=None, n_neighbors=38, p=2,\n",
      "                     weights='uniform')\n",
      "[[9411  108   14 ...    0    0    0]\n",
      " [  16 4515    0 ...    0    0    0]\n",
      " [   0    0    0 ...    0    0    0]\n",
      " ...\n",
      " [   4    0    0 ...    0    0    0]\n",
      " [   2    0    0 ...    0    0    0]\n",
      " [   1    0    0 ...    0    0    0]]\n",
      "0.969\n",
      "0.970\n",
      "Acc: 0.7044002838847038 prec: 0.2241668244380029 recall: 0.1865639004393266 F1: 0.20364406450840578\n",
      "[[9411  108   14 ...    0    0    0]\n",
      " [  16 4515    0 ...    0    0    0]\n",
      " [   0    0    0 ...    0    0    0]\n",
      " ...\n",
      " [   4    0    0 ...    0    0    0]\n",
      " [   2    0    0 ...    0    0    0]\n",
      " [   1    0    0 ...    0    0    0]]\n"
     ]
    },
    {
     "data": {
      "image/png": "[encoded data removed]",
      "text/plain": [
       "<Figure size 432x288 with 2 Axes>"
      ]
     },
     "metadata": {},
     "output_type": "display_data"
    },
    {
     "name": "stdout",
     "output_type": "stream",
     "text": [
      "***************************************************************\n"
     ]
    }
   ],
   "source": [
    "print(\"***************************************************************\")\n",
    "# fit a k-nearest neighbor model to the data\n",
    "model = KNeighborsClassifier()\n",
    "model.fit(traindata, trainlabel)\n",
    "print(model)\n",
    "# make predictions\n",
    "expected = testlabel\n",
    "predicted = model.predict(testdata)\n",
    "# summarize the fit of the model\n",
    "\n",
    "cm = metrics.confusion_matrix(expected, predicted)\n",
    "print(cm)\n",
    "tpr = float(cm[0][0])/np.sum(cm[0])\n",
    "fpr = float(cm[1][1])/np.sum(cm[1])\n",
    "print(\"%.3f\" %tpr)\n",
    "print(\"%.3f\" %fpr)\n",
    "evaluateCM(cm)\n",
    "disp = plot_confusion_matrix(model, testdata, expected,\n",
    "                                 cmap=plt.cm.Blues)\n",
    "print(disp.confusion_matrix)\n",
    "plt.show()\n",
    "print(\"***************************************************************\")\n",
    "\n",
    "\n"
   ]
  },
  {
   "cell_type": "code",
   "execution_count": 116,
   "metadata": {},
   "outputs": [
    {
     "name": "stdout",
     "output_type": "stream",
     "text": [
      "[9479 4638  138  141   10   70  732  661   39  359    0    0    0    0\n",
      "    4    0    0    1    4    0    1    0    0    0    0    0    0    0\n",
      "    0    0    0    0    0    0    0    0    0    0]\n"
     ]
    }
   ],
   "source": [
    "print(cm.diagonal())"
   ]
  },
  {
   "cell_type": "code",
   "execution_count": 110,
   "metadata": {},
   "outputs": [
    {
     "name": "stdout",
     "output_type": "stream",
     "text": [
      "***************************************************************\n",
      "DecisionTreeClassifier(ccp_alpha=0.0, class_weight=None, criterion='gini',\n",
      "                       max_depth=None, max_features=None, max_leaf_nodes=None,\n",
      "                       min_impurity_decrease=0.0, min_impurity_split=None,\n",
      "                       min_samples_leaf=1, min_samples_split=2,\n",
      "                       min_weight_fraction_leaf=0.0, presort='deprecated',\n",
      "                       random_state=None, splitter='best')\n",
      "[[9420   21    2 ...    0    0    0]\n",
      " [  46 4576    0 ...    0    0    0]\n",
      " [   0    0    0 ...    0    0    0]\n",
      " ...\n",
      " [   3    0    0 ...    0    0    0]\n",
      " [   0    0    0 ...    0    0    0]\n",
      " [   0    0    0 ...    0    0    0]]\n",
      "0.970\n",
      "0.983\n",
      "Acc: 0.7140259048922001 prec: 0.28478685533858317 recall: 0.23989996702802374 F1: 0.26042337750195743\n",
      "***************************************************************\n"
     ]
    }
   ],
   "source": [
    "print(\"***************************************************************\")\n",
    "model = DecisionTreeClassifier()\n",
    "model.fit(traindata, trainlabel)\n",
    "print(model)\n",
    "# make predictions\n",
    "expected = testlabel\n",
    "predicted = model.predict(testdata)\n",
    "# summarize the fit of the model\n",
    "\n",
    "cm = metrics.confusion_matrix(expected, predicted)\n",
    "print(cm)\n",
    "tpr = float(cm[0][0])/np.sum(cm[0])\n",
    "fpr = float(cm[1][1])/np.sum(cm[1])\n",
    "print(\"%.3f\" %tpr)\n",
    "print(\"%.3f\" %fpr)\n",
    "evaluateCM(cm)\n",
    "print(\"***************************************************************\")\n"
   ]
  },
  {
   "cell_type": "code",
   "execution_count": 111,
   "metadata": {},
   "outputs": [
    {
     "name": "stdout",
     "output_type": "stream",
     "text": [
      "***************************************************************\n",
      "[[9413  244    0 ...    0    0    0]\n",
      " [  65 4592    0 ...    0    0    0]\n",
      " [ 141    0    0 ...    0    0    0]\n",
      " ...\n",
      " [   4    0    0 ...    0    0    0]\n",
      " [   2    0    0 ...    0    0    0]\n",
      " [   2    0    0 ...    0    0    0]]\n",
      "0.969\n",
      "0.986\n",
      "Acc: 0.6258427963055992 prec: 0.12076631297725295 recall: 0.1312373650809 F1: 0.12578429670389663\n",
      "***************************************************************\n"
     ]
    }
   ],
   "source": [
    "print(\"***************************************************************\")\n",
    "model = AdaBoostClassifier(n_estimators=100)\n",
    "model.fit(traindata, trainlabel)\n",
    "\n",
    "# make predictions\n",
    "expected = testlabel\n",
    "predicted = model.predict(testdata)\n",
    "# summarize the fit of the model\n",
    "\n",
    "cm = metrics.confusion_matrix(expected, predicted)\n",
    "print(cm)\n",
    "tpr = float(cm[0][0])/np.sum(cm[0])\n",
    "fpr = float(cm[1][1])/np.sum(cm[1])\n",
    "print(\"%.3f\" %tpr)\n",
    "print(\"%.3f\" %fpr)\n",
    "evaluateCM(cm)\n",
    "\n",
    "print(\"***************************************************************\")"
   ]
  },
  {
   "cell_type": "code",
   "execution_count": 112,
   "metadata": {},
   "outputs": [
    {
     "name": "stdout",
     "output_type": "stream",
     "text": [
      "***************************************************************\n",
      "[[9479    5    0 ...    0    0    0]\n",
      " [  17 4638    0 ...    0    0    0]\n",
      " [   1    0  138 ...    0    0    0]\n",
      " ...\n",
      " [   3    0    0 ...    0    0    0]\n",
      " [   2    0    0 ...    0    0    0]\n",
      " [   1    0    0 ...    0    0    0]]\n",
      "Acc: 0.7220102909820592 prec: 0.29877976623879876 recall: 0.28565542543435885 F1: 0.2920702327722004\n",
      "***************************************************************\n"
     ]
    }
   ],
   "source": [
    "print(\"***************************************************************\")\n",
    "model = RandomForestClassifier(n_estimators=100)\n",
    "model = model.fit(traindata, trainlabel)\n",
    "\n",
    "# make predictions\n",
    "expected = testlabel\n",
    "predicted = model.predict(testdata)\n",
    "# summarize the fit of the model\n",
    "\n",
    "cm = metrics.confusion_matrix(expected, predicted)\n",
    "print(cm)\n",
    "# tpr = float(cm[0][0])/np.sum(cm[0])\n",
    "# fpr = float(cm[1][1])/np.sum(cm[1])\n",
    "evaluateCM(cm)\n",
    "\n",
    "print(\"***************************************************************\")"
   ]
  },
  {
   "cell_type": "code",
   "execution_count": 114,
   "metadata": {},
   "outputs": [
    {
     "name": "stdout",
     "output_type": "stream",
     "text": [
      "[9479 4638  138  141   10   70  732  661   39  359    0    0    0    0\n",
      "    4    0    0    1    4    0    1    0    0    0    0    0    0    0\n",
      "    0    0    0    0    0    0    0    0    0    0]\n"
     ]
    }
   ],
   "source": [
    "print(cm.diagonal())"
   ]
  },
  {
   "cell_type": "code",
   "execution_count": 72,
   "metadata": {},
   "outputs": [],
   "source": [
    "def evaluateCM(ConfusionMatrix):\n",
    "    ConfusionMatrix = np.add(ConfusionMatrix, 0.0000000001)\n",
    "#     print(\"sum is \", np.sum(ConfusionMatrix))\n",
    "    accuracy = np.sum(ConfusionMatrix.diagonal()) / np.sum(ConfusionMatrix)\n",
    "#     print(\"sum a1 is \", np.sum(ConfusionMatrix, axis = 1))\n",
    "    precision = ConfusionMatrix.diagonal() / np.sum(ConfusionMatrix, axis = 1)\n",
    "#     print(\"sum a0 is \", np.sum(ConfusionMatrix, axis = 0))\n",
    "    recall = ConfusionMatrix.diagonal() / np.sum(ConfusionMatrix, axis = 0)\n",
    "\n",
    "    precision = np.mean(precision)\n",
    "    recall = np.mean(recall)\n",
    "    F1 = 2* ((precision * recall ) / (precision + recall))\n",
    "\n",
    "    print(\"Acc:\", accuracy, \"prec:\", precision, \"recall:\", recall, \"F1:\", F1 )\n"
   ]
  },
  {
   "cell_type": "code",
   "execution_count": null,
   "metadata": {},
   "outputs": [],
   "source": []
  }
 ],
 "metadata": {
  "kernelspec": {
   "display_name": "Python 3",
   "language": "python",
   "name": "python3"
  },
  "language_info": {
   "codemirror_mode": {
    "name": "ipython",
    "version": 3
   },
   "file_extension": ".py",
   "mimetype": "text/x-python",
   "name": "python",
   "nbconvert_exporter": "python",
   "pygments_lexer": "ipython3",
   "version": "3.6.9"
  }
 },
 "nbformat": 4,
 "nbformat_minor": 2
}
