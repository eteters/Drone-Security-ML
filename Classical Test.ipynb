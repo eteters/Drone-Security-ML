{
 "cells": [
  {
   "cell_type": "code",
   "execution_count": 84,
   "metadata": {},
   "outputs": [],
   "source": [
    "import csv\n",
    "import numpy as np\n",
    "import pandas as pd\n",
    "from sklearn.kernel_approximation import RBFSampler\n",
    "from sklearn.linear_model import SGDClassifier\n",
    "# from sklearn.cross_validation import train_test_split\n",
    "from sklearn import svm\n",
    "from sklearn.metrics import classification_report\n",
    "from sklearn import metrics\n",
    "from sklearn.linear_model import LogisticRegression\n",
    "from sklearn.naive_bayes import GaussianNB\n",
    "from sklearn.neighbors import KNeighborsClassifier\n",
    "from sklearn.tree import DecisionTreeClassifier\n",
    "from sklearn.metrics import (precision_score, recall_score,f1_score, accuracy_score,mean_squared_error,mean_absolute_error)\n",
    "from sklearn.ensemble import AdaBoostClassifier\n",
    "from sklearn.ensemble import RandomForestClassifier\n",
    "from sklearn.preprocessing import Normalizer\n",
    "# from pandas_ml import ConfusionMatrix\n",
    "from sklearn.metrics import confusion_matrix\n",
    "from sklearn.metrics import plot_confusion_matrix\n",
    "\n",
    "import matplotlib.pyplot as plt\n"
   ]
  },
  {
   "cell_type": "code",
   "execution_count": 72,
   "metadata": {},
   "outputs": [],
   "source": [
    "#Used later on, this gets the metrics we want from confusion matrices\n",
    "def evaluateCM(ConfusionMatrix):\n",
    "    #this line fixes divide by zero error for multiclass. \n",
    "    #If multiclass was working well we ideally wouldn't need this\n",
    "    ConfusionMatrix = np.add(ConfusionMatrix, 0.0000000001)\n",
    "#     print(\"sum is \", np.sum(ConfusionMatrix))\n",
    "    accuracy = np.sum(ConfusionMatrix.diagonal()) / np.sum(ConfusionMatrix)\n",
    "#     print(\"sum a1 is \", np.sum(ConfusionMatrix, axis = 1))\n",
    "    precision = ConfusionMatrix.diagonal() / np.sum(ConfusionMatrix, axis = 1)\n",
    "#     print(\"sum a0 is \", np.sum(ConfusionMatrix, axis = 0))\n",
    "    recall = ConfusionMatrix.diagonal() / np.sum(ConfusionMatrix, axis = 0)\n",
    "\n",
    "    precision = np.mean(precision)\n",
    "    recall = np.mean(recall)\n",
    "    F1 = 2* ((precision * recall ) / (precision + recall))\n",
    "\n",
    "    print(\"Acc:\", accuracy, \"prec:\", precision, \"recall:\", recall, \"F1:\", F1 )\n"
   ]
  },
  {
   "cell_type": "code",
   "execution_count": 137,
   "metadata": {},
   "outputs": [],
   "source": [
    "#Just plot the confusion matrix\n",
    "def plotCM(cm, title):\n",
    "    disp = plot_confusion_matrix(model, testdata, expected,\n",
    "                                 cmap=plt.cm.Blues,\n",
    "                                display_labels=[\"Normal Comm\", \"Attack\"])\n",
    "    print(disp.confusion_matrix)\n",
    "    disp.ax_.set_title(title)\n",
    "    plt.show()"
   ]
  },
  {
   "cell_type": "markdown",
   "metadata": {},
   "source": [
    "# Preprocessing"
   ]
  },
  {
   "cell_type": "code",
   "execution_count": 92,
   "metadata": {},
   "outputs": [],
   "source": [
    "#Run once on a csv, will find unique numbers for all strings \n",
    "#Not the best code - need to check the csv beforehand and change the indices in the script\n",
    "#returns the params that need to be input into it for future runs to make sure all csvs (test and train) \n",
    "#for the same dataset have the same unique numbers\n",
    "#format for init of each item in params is {\"count\":0} (corresponds to one column that has string format)\n",
    "def fixDataset(csvName, params, title):\n",
    "\n",
    "    ids_1, ids_2, ids_3, labels = params\n",
    "    print(labels)\n",
    "    with open(csvName, 'r') as f:\n",
    "        reader = csv.reader(f)\n",
    "        text_file = open(title, \"w\")\n",
    "        for row in reader:\n",
    "            for row_i in range(len(row)):\n",
    "                text = \"\"\n",
    "                if row_i == 1:\n",
    "                    if row[row_i] in ids_1:\n",
    "                        text = str(ids_1[row[row_i]])\n",
    "                    else:\n",
    "                        ids_1[row[row_i]] = ids_1[\"count\"] \n",
    "                        ids_1[\"count\"] += 1\n",
    "                        text = str(ids_1[row[row_i]])\n",
    "\n",
    "                elif row_i == 2:\n",
    "                    if row[row_i] in ids_2:\n",
    "                        text = str(ids_2[row[row_i]])\n",
    "                    else:\n",
    "                        ids_2[row[row_i]] = ids_2[\"count\"] \n",
    "                        ids_2[\"count\"] += 1\n",
    "                        text = str(ids_2[row[row_i]])\n",
    "                elif row_i == 3:\n",
    "                    if row[row_i] in ids_3:\n",
    "                        text = str(ids_3[row[row_i]])\n",
    "                    else:\n",
    "                        ids_3[row[row_i]] = ids_3[\"count\"] \n",
    "                        ids_3[\"count\"] += 1\n",
    "                        text = str(ids_3[row[row_i]])\n",
    "                elif row_i == 41:\n",
    "                    if row[row_i] in labels:\n",
    "                        text = str(labels[row[row_i]])\n",
    "                    else:\n",
    "                        labels[row[row_i]] = labels[\"count\"] \n",
    "                        labels[\"count\"] += 1\n",
    "                        text = str(labels[row[row_i]])\n",
    "                else:\n",
    "                    text = row[row_i]\n",
    "\n",
    "                text_file.write(\"{},\".format(text))\n",
    "            text_file.write('\\n')\n",
    "\n",
    "    return [ids_1,ids_2,ids_3,labels]"
   ]
  },
  {
   "cell_type": "code",
   "execution_count": 121,
   "metadata": {},
   "outputs": [],
   "source": [
    "#converts the labels to a 1 if it is an attack, rather than all the different types\n",
    "def makeBinaryCsv(csvName, title):\n",
    "    with open(csvName, 'r') as f:\n",
    "        reader = csv.reader(f)\n",
    "        text_file = open(title, \"w\")\n",
    "        for row in reader:\n",
    "            for row_i in range(len(row)):\n",
    "                text = \"\"\n",
    "                if row_i == 0:\n",
    "                    if int(row[row_i]) > 0 :\n",
    "                        text = \"1\"\n",
    "                    else:\n",
    "                        text = \"0\"\n",
    "                else:\n",
    "                    text = row[row_i]\n",
    "\n",
    "                text_file.write(\"{},\".format(text))\n",
    "            text_file.write('\\n')\n",
    "\n",
    "    return "
   ]
  },
  {
   "cell_type": "code",
   "execution_count": 93,
   "metadata": {},
   "outputs": [
    {
     "name": "stdout",
     "output_type": "stream",
     "text": [
      "{'count': 0}\n",
      "{'count': 23, 'normal': 0, 'neptune': 1, 'warezclient': 2, 'ipsweep': 3, 'portsweep': 4, 'teardrop': 5, 'nmap': 6, 'satan': 7, 'smurf': 8, 'pod': 9, 'back': 10, 'guess_passwd': 11, 'ftp_write': 12, 'multihop': 13, 'rootkit': 14, 'buffer_overflow': 15, 'imap': 16, 'warezmaster': 17, 'phf': 18, 'land': 19, 'loadmodule': 20, 'spy': 21, 'perl': 22}\n",
      "{'count': 23, 'normal': 0, 'neptune': 1, 'warezclient': 2, 'ipsweep': 3, 'portsweep': 4, 'teardrop': 5, 'nmap': 6, 'satan': 7, 'smurf': 8, 'pod': 9, 'back': 10, 'guess_passwd': 11, 'ftp_write': 12, 'multihop': 13, 'rootkit': 14, 'buffer_overflow': 15, 'imap': 16, 'warezmaster': 17, 'phf': 18, 'land': 19, 'loadmodule': 20, 'spy': 21, 'perl': 22}\n"
     ]
    }
   ],
   "source": [
    "labels = {\"count\":0}\n",
    "ids_1 = {\"count\":0}\n",
    "ids_2 = {\"count\":0}\n",
    "ids_3 = {\"count\":0}\n",
    "ids_1, ids_2, ids_3, labels = fixDataset(\"kddtrain.csv\", [ids_1, ids_2, ids_3, labels], \"kddtrain-mod2.csv\")\n",
    "ids_1, ids_2, ids_3, labels = fixDataset(\"kddtrain-20.csv\", [ids_1, ids_2, ids_3, labels], \"kddtrain-20-mod2.csv\" )\n",
    "ids_1, ids_2, ids_3, labels = fixDataset(\"kddtest.csv\", [ids_1, ids_2, ids_3, labels], \"kddtest-mod2.csv\" )"
   ]
  },
  {
   "cell_type": "code",
   "execution_count": 122,
   "metadata": {},
   "outputs": [],
   "source": [
    "#make binary\n",
    "makeBinaryCsv(\"kddtrain-mod2.csv\", \"kddtrain-mod2-binary.csv\")\n",
    "makeBinaryCsv(\"kddtest-mod2.csv\", \"kddtest-mod2-binary.csv\")"
   ]
  },
  {
   "cell_type": "markdown",
   "metadata": {},
   "source": [
    "### NOTE: I manually went into the mod2-binary of the KDD-NSL and moved the labels to the first column, because that is what the below code expects. I could have done this in code but I'm lazy"
   ]
  },
  {
   "cell_type": "code",
   "execution_count": 123,
   "metadata": {},
   "outputs": [
    {
     "name": "stdout",
     "output_type": "stream",
     "text": [
      "***************************************************************\n"
     ]
    }
   ],
   "source": [
    "\n",
    "print(\"***************************************************************\")\n",
    "\n",
    "traindata = pd.read_csv('kddtrain-mod2-binary.csv', header=None)\n",
    "testdata = pd.read_csv('kddtest-mod2-binary.csv', header=None)\n",
    "\n",
    "X = traindata.iloc[:,1:42]\n",
    "Y = traindata.iloc[:,0]\n",
    "C = testdata.iloc[:,0]\n",
    "T = testdata.iloc[:,1:42]\n",
    "\n",
    "scaler = Normalizer().fit(X)\n",
    "trainX = scaler.transform(X)\n",
    "\n",
    "scaler = Normalizer().fit(T)\n",
    "testT = scaler.transform(T)\n",
    "\n",
    "\n",
    "traindata = np.array(trainX)\n",
    "trainlabel = np.array(Y)\n",
    "\n",
    "testdata = np.array(testT)\n",
    "testlabel = np.array(C)\n"
   ]
  },
  {
   "cell_type": "markdown",
   "metadata": {},
   "source": [
    "# Experiments, Binary"
   ]
  },
  {
   "cell_type": "code",
   "execution_count": 124,
   "metadata": {},
   "outputs": [
    {
     "name": "stdout",
     "output_type": "stream",
     "text": [
      "***************************************************************\n",
      "***************************************************************\n"
     ]
    },
    {
     "name": "stderr",
     "output_type": "stream",
     "text": [
      "/Users/evanteters/anaconda3/lib/python3.6/site-packages/sklearn/linear_model/_logistic.py:940: ConvergenceWarning: lbfgs failed to converge (status=1):\n",
      "STOP: TOTAL NO. of ITERATIONS REACHED LIMIT.\n",
      "\n",
      "Increase the number of iterations (max_iter) or scale the data as shown in:\n",
      "    https://scikit-learn.org/stable/modules/preprocessing.html\n",
      "Please also refer to the documentation for alternative solver options:\n",
      "    https://scikit-learn.org/stable/modules/linear_model.html#logistic-regression\n",
      "  extra_warning_msg=_LOGISTIC_SOLVER_CONVERGENCE_MSG)\n"
     ]
    }
   ],
   "source": [
    "print(\"***************************************************************\")\n",
    "#Still doesn't work, idk why, not toooo worried about it\n",
    "model = LogisticRegression()\n",
    "model.fit(traindata, trainlabel)\n",
    "\n",
    "\n",
    "# make predictions\n",
    "expected = testlabel\n",
    "predicted = model.predict(testdata)\n",
    "\n",
    "\n",
    "print(\"***************************************************************\")"
   ]
  },
  {
   "cell_type": "code",
   "execution_count": 125,
   "metadata": {},
   "outputs": [
    {
     "name": "stdout",
     "output_type": "stream",
     "text": [
      "***************************************************************\n",
      "GaussianNB(priors=None, var_smoothing=1e-09)\n",
      "(22544,)\n",
      "(22544,)\n",
      "[[9053  658]\n",
      " [5533 7300]]\n",
      "(22544,)\n",
      "(22544,)\n",
      "Acc: 0.7253814762242685 prec: 0.7505438658569796 recall: 0.7689897792975656 F1: 0.7596548633180148\n",
      "***************************************************************\n"
     ]
    }
   ],
   "source": [
    "print(\"***************************************************************\")\n",
    "\n",
    "# fit a Naive Bayes model to the data\n",
    "model = GaussianNB()\n",
    "model.fit(traindata, trainlabel)\n",
    "print(model)\n",
    "# make predictions\n",
    "expected = testlabel\n",
    "predicted = model.predict(testdata)\n",
    "\n",
    "cm = confusion_matrix(expected, predicted)\n",
    "print(expected.shape)\n",
    "print(predicted.shape)\n",
    "expected = np.array(expected)\n",
    "predicted = np.array(predicted)\n",
    "# cm.print_stats()\n",
    "\n",
    "np.savetxt('expected.txt', expected, fmt='%01d')\n",
    "np.savetxt('predicted.txt',predicted , fmt='%01d')\n",
    "\n",
    "print(cm)\n",
    "print(expected.shape)\n",
    "print(predicted.shape)\n",
    "evaluateCM(cm)\n",
    "\n",
    "# cm.stats()\n",
    "print(\"***************************************************************\")"
   ]
  },
  {
   "cell_type": "code",
   "execution_count": 138,
   "metadata": {},
   "outputs": [
    {
     "name": "stdout",
     "output_type": "stream",
     "text": [
      "***************************************************************\n",
      "KNeighborsClassifier(algorithm='auto', leaf_size=30, metric='minkowski',\n",
      "                     metric_params=None, n_jobs=None, n_neighbors=5, p=2,\n",
      "                     weights='uniform')\n",
      "[[9430  281]\n",
      " [4479 8354]]\n",
      "0.971\n",
      "0.651\n",
      "Acc: 0.7888573456351972 prec: 0.8110208448136114 recall: 0.8227181535635464 F1: 0.8168276237629059\n",
      "[[9430  281]\n",
      " [4479 8354]]\n"
     ]
    },
    {
     "data": {
      "image/png": "[encoded data removed]",
      "text/plain": [
       "<Figure size 432x288 with 2 Axes>"
      ]
     },
     "metadata": {},
     "output_type": "display_data"
    },
    {
     "name": "stdout",
     "output_type": "stream",
     "text": [
      "***************************************************************\n"
     ]
    }
   ],
   "source": [
    "print(\"***************************************************************\")\n",
    "# fit a k-nearest neighbor model to the data\n",
    "model = KNeighborsClassifier()\n",
    "model.fit(traindata, trainlabel)\n",
    "print(model)\n",
    "# make predictions\n",
    "expected = testlabel\n",
    "predicted = model.predict(testdata)\n",
    "# summarize the fit of the model\n",
    "\n",
    "cm = metrics.confusion_matrix(expected, predicted)\n",
    "print(cm)\n",
    "tpr = float(cm[0][0])/np.sum(cm[0])\n",
    "fpr = float(cm[1][1])/np.sum(cm[1])\n",
    "print(\"%.3f\" %tpr)\n",
    "print(\"%.3f\" %fpr)\n",
    "evaluateCM(cm)\n",
    "plotCM(cm, \"KNN Confusion Matrix\")\n",
    "print(\"***************************************************************\")\n",
    "\n",
    "\n"
   ]
  },
  {
   "cell_type": "code",
   "execution_count": 139,
   "metadata": {},
   "outputs": [
    {
     "name": "stdout",
     "output_type": "stream",
     "text": [
      "[9430 8354]\n"
     ]
    }
   ],
   "source": [
    "print(cm.diagonal())"
   ]
  },
  {
   "cell_type": "code",
   "execution_count": 140,
   "metadata": {},
   "outputs": [
    {
     "name": "stdout",
     "output_type": "stream",
     "text": [
      "***************************************************************\n",
      "DecisionTreeClassifier(ccp_alpha=0.0, class_weight=None, criterion='gini',\n",
      "                       max_depth=None, max_features=None, max_leaf_nodes=None,\n",
      "                       min_impurity_decrease=0.0, min_impurity_split=None,\n",
      "                       min_samples_leaf=1, min_samples_split=2,\n",
      "                       min_weight_fraction_leaf=0.0, presort='deprecated',\n",
      "                       random_state=None, splitter='best')\n",
      "[[9357  354]\n",
      " [4094 8739]]\n",
      "0.964\n",
      "0.681\n",
      "Acc: 0.8026969481902004 prec: 0.8222626101935688 recall: 0.8283524831664684 F1: 0.8252963125185914\n",
      "[[9357  354]\n",
      " [4094 8739]]\n"
     ]
    },
    {
     "data": {
      "image/png": "[encoded data removed]",
      "text/plain": [
       "<Figure size 432x288 with 2 Axes>"
      ]
     },
     "metadata": {},
     "output_type": "display_data"
    },
    {
     "name": "stdout",
     "output_type": "stream",
     "text": [
      "***************************************************************\n"
     ]
    }
   ],
   "source": [
    "print(\"***************************************************************\")\n",
    "model = DecisionTreeClassifier()\n",
    "model.fit(traindata, trainlabel)\n",
    "print(model)\n",
    "# make predictions\n",
    "expected = testlabel\n",
    "predicted = model.predict(testdata)\n",
    "# summarize the fit of the model\n",
    "\n",
    "cm = metrics.confusion_matrix(expected, predicted)\n",
    "print(cm)\n",
    "tpr = float(cm[0][0])/np.sum(cm[0])\n",
    "fpr = float(cm[1][1])/np.sum(cm[1])\n",
    "print(\"%.3f\" %tpr)\n",
    "print(\"%.3f\" %fpr)\n",
    "evaluateCM(cm)\n",
    "plotCM(cm, \"Decision Tree Classifier Confusion Matrix\")\n",
    "print(\"***************************************************************\")\n"
   ]
  },
  {
   "cell_type": "code",
   "execution_count": 135,
   "metadata": {},
   "outputs": [
    {
     "name": "stdout",
     "output_type": "stream",
     "text": [
      "***************************************************************\n",
      "[[9423  288]\n",
      " [5179 7654]]\n",
      "0.970\n",
      "0.596\n",
      "Acc: 0.7574964513839557 prec: 0.7833869931168913 recall: 0.8045298262423044 F1: 0.7938176531276427\n",
      "[[9423  288]\n",
      " [5179 7654]]\n"
     ]
    },
    {
     "data": {
      "image/png": "[encoded data removed]",
      "text/plain": [
       "<Figure size 432x288 with 2 Axes>"
      ]
     },
     "metadata": {},
     "output_type": "display_data"
    },
    {
     "name": "stdout",
     "output_type": "stream",
     "text": [
      "***************************************************************\n"
     ]
    }
   ],
   "source": [
    "print(\"***************************************************************\")\n",
    "model = AdaBoostClassifier(n_estimators=100)\n",
    "model.fit(traindata, trainlabel)\n",
    "\n",
    "# make predictions\n",
    "expected = testlabel\n",
    "predicted = model.predict(testdata)\n",
    "# summarize the fit of the model\n",
    "\n",
    "cm = metrics.confusion_matrix(expected, predicted)\n",
    "print(cm)\n",
    "tpr = float(cm[0][0])/np.sum(cm[0])\n",
    "fpr = float(cm[1][1])/np.sum(cm[1])\n",
    "print(\"%.3f\" %tpr)\n",
    "print(\"%.3f\" %fpr)\n",
    "evaluateCM(cm)\n",
    "plotCM(cm, \"AdaBoost Classifier Confusion Matrix\")\n",
    "print(\"***************************************************************\")"
   ]
  },
  {
   "cell_type": "code",
   "execution_count": 136,
   "metadata": {},
   "outputs": [
    {
     "name": "stdout",
     "output_type": "stream",
     "text": [
      "***************************************************************\n",
      "[[9459  252]\n",
      " [4851 7982]]\n",
      "Acc: 0.7736426543647928 prec: 0.7980201139511744 recall: 0.8152007399904913 F1: 0.8065189410746576\n",
      "[[9459  252]\n",
      " [4851 7982]]\n"
     ]
    },
    {
     "data": {
      "image/png": "[encoded data removed]",
      "text/plain": [
       "<Figure size 432x288 with 2 Axes>"
      ]
     },
     "metadata": {},
     "output_type": "display_data"
    },
    {
     "name": "stdout",
     "output_type": "stream",
     "text": [
      "***************************************************************\n"
     ]
    }
   ],
   "source": [
    "print(\"***************************************************************\")\n",
    "model = RandomForestClassifier(n_estimators=100)\n",
    "model = model.fit(traindata, trainlabel)\n",
    "\n",
    "# make predictions\n",
    "expected = testlabel\n",
    "predicted = model.predict(testdata)\n",
    "# summarize the fit of the model\n",
    "\n",
    "cm = metrics.confusion_matrix(expected, predicted)\n",
    "print(cm)\n",
    "# tpr = float(cm[0][0])/np.sum(cm[0])\n",
    "# fpr = float(cm[1][1])/np.sum(cm[1])\n",
    "evaluateCM(cm)\n",
    "plotCM(cm, \"Random Forest Classifier Confusion Matrix\")\n",
    "print(\"***************************************************************\")"
   ]
  },
  {
   "cell_type": "code",
   "execution_count": 141,
   "metadata": {},
   "outputs": [
    {
     "name": "stdout",
     "output_type": "stream",
     "text": [
      "[9357 8739]\n"
     ]
    }
   ],
   "source": [
    "print(cm.diagonal())"
   ]
  },
  {
   "cell_type": "code",
   "execution_count": null,
   "metadata": {},
   "outputs": [],
   "source": []
  }
 ],
 "metadata": {
  "kernelspec": {
   "display_name": "Python 3",
   "language": "python",
   "name": "python3"
  },
  "language_info": {
   "codemirror_mode": {
    "name": "ipython",
    "version": 3
   },
   "file_extension": ".py",
   "mimetype": "text/x-python",
   "name": "python",
   "nbconvert_exporter": "python",
   "pygments_lexer": "ipython3",
   "version": "3.6.9"
  }
 },
 "nbformat": 4,
 "nbformat_minor": 2
}
